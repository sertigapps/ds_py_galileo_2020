{
 "cells": [
  {
   "cell_type": "markdown",
   "metadata": {},
   "source": [
    "# Variables\n",
    "\n",
    "* Son objetos que tienen un nombre y sirven para almacenar valores(datos) que serán utilizados en el programa\n",
    "* Existen diversos tipos de variables, por ejemplo los básicos:\n",
    "    * Números enteros: a = 1, b = 2 , parqueos = 4, sillas = 3\n",
    "    * Números decimales(llamados float y/o double): pi = 3.1416 , edad = 24.5, velocidad = 25.5 , tipo_cambio = 7.40\n",
    "    * Cadenas(llamados Strings): mi_nombre = “Luis Leal” ,curso = “Machine Learning”\n",
    "    * Booleanos, contienen 2 únicos valores:\n",
    "        * True\n",
    "        * False\n"
   ]
  },
  {
   "cell_type": "markdown",
   "metadata": {},
   "source": [
    "### Numeros enteros"
   ]
  },
  {
   "cell_type": "code",
   "execution_count": 47,
   "metadata": {},
   "outputs": [],
   "source": [
    "total_alumnos = 5\n",
    "sillas = 20\n",
    "year = 2018\n",
    "numero_curso = 1"
   ]
  },
  {
   "cell_type": "markdown",
   "metadata": {},
   "source": [
    "### Numeros Decimales"
   ]
  },
  {
   "cell_type": "code",
   "execution_count": 7,
   "metadata": {},
   "outputs": [],
   "source": [
    "pi = 3.1416\n",
    "velocidad = 25.5\n",
    "tipo_cambio = 7.40"
   ]
  },
  {
   "cell_type": "markdown",
   "metadata": {},
   "source": [
    "### Strings"
   ]
  },
  {
   "cell_type": "code",
   "execution_count": 16,
   "metadata": {},
   "outputs": [],
   "source": [
    "nombre_curso = 'Data science'\n",
    "catedratico = 'Luis Leal'\n",
    "auxiliar = 'Erick Diaz'\n",
    "seccion_curso = 'A'"
   ]
  },
  {
   "cell_type": "markdown",
   "metadata": {},
   "source": [
    "### Booleanos"
   ]
  },
  {
   "cell_type": "code",
   "execution_count": 6,
   "metadata": {},
   "outputs": [],
   "source": [
    "curso_activo = True\n",
    "sillas_disponibles = False"
   ]
  },
  {
   "cell_type": "markdown",
   "metadata": {},
   "source": [
    "#### Obtener el tipo de una variable\n",
    "Si queremos ver de que tipo es una variable utilizamos la funcion type( )"
   ]
  },
  {
   "cell_type": "code",
   "execution_count": 9,
   "metadata": {},
   "outputs": [
    {
     "data": {
      "text/plain": [
       "float"
      ]
     },
     "execution_count": 9,
     "metadata": {},
     "output_type": "execute_result"
    }
   ],
   "source": [
    "type(pi)"
   ]
  },
  {
   "cell_type": "code",
   "execution_count": 10,
   "metadata": {},
   "outputs": [
    {
     "data": {
      "text/plain": [
       "int"
      ]
     },
     "execution_count": 10,
     "metadata": {},
     "output_type": "execute_result"
    }
   ],
   "source": [
    "type(year)"
   ]
  },
  {
   "cell_type": "code",
   "execution_count": 13,
   "metadata": {},
   "outputs": [
    {
     "data": {
      "text/plain": [
       "str"
      ]
     },
     "execution_count": 13,
     "metadata": {},
     "output_type": "execute_result"
    }
   ],
   "source": [
    "type(nombre_curso)"
   ]
  },
  {
   "cell_type": "markdown",
   "metadata": {},
   "source": [
    "# Listas y diccionarios"
   ]
  },
  {
   "cell_type": "markdown",
   "metadata": {},
   "source": [
    "### Listas\n",
    "* Permite guardar multiples objetos asociados bajo un mismo nombre.\n",
    "* Similar al concepto de “Vector” que ya vimos, pero no restringido únicamente a números.\n",
    "* Puede almacenar cualquier tipo de objeto básico(enteros, deci\"males o strings) o bien otros objetos mas complejos(otras listas u otras estructuras de datos)\n"
   ]
  },
  {
   "cell_type": "code",
   "execution_count": 45,
   "metadata": {},
   "outputs": [],
   "source": [
    "nombres_alumos = ['Marcos Amaya','Edwin Calderón','Boris Juárez','Isabel Miranda','Hanna Prera']\n",
    "carnets_alumnos = [20200205, 20200394, 20200109, 20200263, 20200066]\n",
    "carreras_alumnos = ['c1', 'c1', 'c2', 'c3', 'c3']\n",
    "pagos = [100,200,300]"
   ]
  },
  {
   "cell_type": "markdown",
   "metadata": {},
   "source": [
    "#### Obtener un elemento de la lista"
   ]
  },
  {
   "cell_type": "code",
   "execution_count": 18,
   "metadata": {},
   "outputs": [
    {
     "data": {
      "text/plain": [
       "300"
      ]
     },
     "execution_count": 18,
     "metadata": {},
     "output_type": "execute_result"
    }
   ],
   "source": [
    "pagos[2]"
   ]
  },
  {
   "cell_type": "markdown",
   "metadata": {},
   "source": [
    "### Diccionarios\n",
    "* Conocidos también como “hash tables” o “maps” o “hash maps”\n",
    "* Permiten acceder de manera rápida a un valor que esta asociado a otro valor comunmente llamado “llave” ,es decir asocian una llave a un valor.\n",
    "* Similar a un diccionario de idiomas o directorio teléfonico, permite asociar un valor(la llave) a otro(el valor), en un diccionario de idioma el “mapeo” es de una palabra(llave) a su significado(valor=, en el directorio teléfonico asocia o “mapea” un nombre de persona(llave) a su número de teléfono(valor)\n",
    "* Para “consultar” o usar un valor dada una llave, se puede usar también corchetes, o la función get()\n"
   ]
  },
  {
   "cell_type": "code",
   "execution_count": 41,
   "metadata": {},
   "outputs": [],
   "source": [
    "carreras = dict()\n",
    "carreras['c1'] = 'Master en data sa' \n",
    "carreras['c2'] = 'Licenciatura en Administración de Empresas'\n",
    "carreras['c3'] = 'Licenciatura en Ingeniería Empresarial'"
   ]
  },
  {
   "cell_type": "code",
   "execution_count": 42,
   "metadata": {},
   "outputs": [
    {
     "data": {
      "text/plain": [
       "'Licenciatura en Administración de Empresas'"
      ]
     },
     "execution_count": 42,
     "metadata": {},
     "output_type": "execute_result"
    }
   ],
   "source": [
    "carreras.get('c2')"
   ]
  },
  {
   "cell_type": "code",
   "execution_count": 71,
   "metadata": {},
   "outputs": [],
   "source": [
    "curso = {'catedratico': catedratico, 'auxiliar' : auxiliar, 'nombre_curso' : nombre_curso, 'seccion': seccion_curso}"
   ]
  },
  {
   "cell_type": "code",
   "execution_count": 44,
   "metadata": {},
   "outputs": [
    {
     "data": {
      "text/plain": [
       "'Machine Learning'"
      ]
     },
     "execution_count": 44,
     "metadata": {},
     "output_type": "execute_result"
    }
   ],
   "source": [
    "curso['nombre_curso']"
   ]
  },
  {
   "cell_type": "markdown",
   "metadata": {},
   "source": [
    "# Operaciones aritmeticas\n",
    "* Python permite realizar operaciones aritméticas a través de los simbolos de suma,resta ,multiplicación y división convencionales\n",
    "* Ademas de las operaciones convencionales cuenta con operaciones para:\n",
    "    * Exponenciación(\\*\\*): a\\*\\*b equivale a elevar “a” a la “b” potencia\n",
    "    * División modular(%): a%b equivale a obtener el residuio de “a” dividido dentro de “b”\n",
    "    * División entera(//): a//b equivale a obtener  la división de “a” dentro de “b” aproximda a el entero mas bajo.\n",
    "* Asi también cuenta con operaciones para listas de números, por ejemplo:\n",
    "    * sum(lista) : suma los valoes de una lista dada\n",
    "    * max(lista) : obtiene el valor mayor de una lista dada\n",
    "    * min(lista) : obtiene el valor menor de una lista dada\n",
    "    * len(lista): devuelve el numero de elementos en una lista."
   ]
  },
  {
   "cell_type": "code",
   "execution_count": 59,
   "metadata": {},
   "outputs": [
    {
     "name": "stdout",
     "output_type": "stream",
     "text": [
      "15\n"
     ]
    }
   ],
   "source": [
    "asientos_disponibles = sillas - total_alumnos\n",
    "print(asientos_disponibles)"
   ]
  },
  {
   "cell_type": "code",
   "execution_count": 50,
   "metadata": {},
   "outputs": [
    {
     "data": {
      "text/plain": [
       "16"
      ]
     },
     "execution_count": 50,
     "metadata": {},
     "output_type": "execute_result"
    }
   ],
   "source": [
    "2**4"
   ]
  },
  {
   "cell_type": "code",
   "execution_count": 51,
   "metadata": {},
   "outputs": [
    {
     "data": {
      "text/plain": [
       "1"
      ]
     },
     "execution_count": 51,
     "metadata": {},
     "output_type": "execute_result"
    }
   ],
   "source": [
    "11%2"
   ]
  },
  {
   "cell_type": "code",
   "execution_count": 52,
   "metadata": {},
   "outputs": [
    {
     "data": {
      "text/plain": [
       "3"
      ]
     },
     "execution_count": 52,
     "metadata": {},
     "output_type": "execute_result"
    }
   ],
   "source": [
    "15//4"
   ]
  },
  {
   "cell_type": "code",
   "execution_count": 57,
   "metadata": {},
   "outputs": [
    {
     "name": "stdout",
     "output_type": "stream",
     "text": [
      "Lista de pagos:  [100, 200, 300]\n",
      "Total =  600\n",
      "Pago Mayor =  300\n",
      "Pago Menor =  100\n"
     ]
    }
   ],
   "source": [
    "print('Lista de pagos: ', pagos)\n",
    "\n",
    "total_pagos = sum(pagos)\n",
    "\n",
    "print('Total = ', total_pagos)\n",
    "\n",
    "print('Pago Mayor = ', max(pagos))\n",
    "\n",
    "print('Pago Menor = ', min(pagos))"
   ]
  },
  {
   "cell_type": "markdown",
   "metadata": {},
   "source": [
    "### Operaciones Logicas\n",
    "* Operaciones que trabajan sobre objetos booleanos(True,False) y su resultado es también un booleano.\n",
    "* Toda comparación da como resultado un valor booleano:\n",
    "    * 1 > 2: False\n",
    "    * 1 < 2: True\n",
    "    * 3 != 2: True\n",
    "    * 2 == 2: True\n",
    "* Son exactamente iguales a lo visto en “tablas lógicas” en matemáticas\n",
    "* Los 3 tipos mas usados son:\n",
    "    * not: negación, convierte un valor True a False, y False a True\n",
    "    * and: su resultado es verdadero si sus 2 operandos son verdaderos, en cualquier otro caso es falso\n",
    "    * or : su resultado es falso si sus 2 operandos son falsos, en cualquier otro caso es verdadero"
   ]
  },
  {
   "cell_type": "code",
   "execution_count": 62,
   "metadata": {},
   "outputs": [
    {
     "name": "stdout",
     "output_type": "stream",
     "text": [
      "True\n",
      "False\n"
     ]
    }
   ],
   "source": [
    "print(curso_activo)\n",
    "print(not curso_activo)"
   ]
  },
  {
   "cell_type": "markdown",
   "metadata": {},
   "source": [
    "### Condicionales\n",
    "* Son operaciones que separan el flujo de ejecución del programa basados en una condición.\n",
    "* Por ejemplo: ejecutar algo si se cumple que x> 0, si no se cumple ejecutar otra cosa.\n",
    "* Python utiliza las sentencias: if, else, y elif para esto"
   ]
  },
  {
   "cell_type": "code",
   "execution_count": 60,
   "metadata": {},
   "outputs": [
    {
     "data": {
      "text/plain": [
       "True"
      ]
     },
     "execution_count": 60,
     "metadata": {},
     "output_type": "execute_result"
    }
   ],
   "source": [
    "max(pagos) > min(pagos)"
   ]
  },
  {
   "cell_type": "code",
   "execution_count": 63,
   "metadata": {},
   "outputs": [
    {
     "data": {
      "text/plain": [
       "False"
      ]
     },
     "execution_count": 63,
     "metadata": {},
     "output_type": "execute_result"
    }
   ],
   "source": [
    "max(pagos) < pagos[1]"
   ]
  },
  {
   "cell_type": "code",
   "execution_count": 65,
   "metadata": {},
   "outputs": [
    {
     "name": "stdout",
     "output_type": "stream",
     "text": [
      "El curso esta disponible\n"
     ]
    }
   ],
   "source": [
    "if (curso_activo):\n",
    "    print(\"El curso esta disponible\")"
   ]
  },
  {
   "cell_type": "markdown",
   "metadata": {},
   "source": [
    "# Ciclos\n",
    "* Permiten realizar una operación muchas veces.\n",
    "* Por ejemplo, si tenemos una lista de usuarios y queremos imprimir el nombre de cada uno, utilizamos un ciclo y dentro del ciclo hacemos la impresion de nombre.\n",
    "* Utilizados cuando queremos repetir la misma operacion muchas veces dependiendo de una condición.\n",
    "* Repetiremos la operación mientras se cumpla una condición.\n",
    "* La condición podría ser por ejemplo: mientras una lista no este vacía\n",
    "* O bien podriamos repetir la operación una vez por cada elemento en una lista o secuencia de números.\n",
    "* En Python contamos básicamente con:\n",
    "    * for\n",
    "    * While"
   ]
  },
  {
   "cell_type": "code",
   "execution_count": 64,
   "metadata": {},
   "outputs": [
    {
     "name": "stdout",
     "output_type": "stream",
     "text": [
      "20150205\n",
      "20150394\n",
      "20150109\n",
      "20150263\n",
      "20150066\n"
     ]
    }
   ],
   "source": [
    "for carnet in carnets_alumnos:\n",
    "    print(carnet)"
   ]
  },
  {
   "cell_type": "code",
   "execution_count": 66,
   "metadata": {},
   "outputs": [
    {
     "name": "stdout",
     "output_type": "stream",
     "text": [
      "Marcos Amaya\n",
      "Edwin Calderón\n",
      "Boris Juárez\n",
      "Isabel Miranda\n",
      "Hanna Prera\n"
     ]
    }
   ],
   "source": [
    "total_alumnos = len(nombres_alumos)\n",
    "count = 0\n",
    "\n",
    "while(count < total_alumnos):\n",
    "    print(nombres_alumos[count])\n",
    "    count+=1"
   ]
  },
  {
   "cell_type": "markdown",
   "metadata": {},
   "source": [
    "# Procedimientos y funciones\n",
    "* Son grupos de sentencias de código que una vez definidas pueden ser “llamadas” por un nombre.\n",
    "* Pueden o no recibir parametros.\n",
    "* Un procedimiento es un grupo de sentencias  que realizan alguna tarea,pero no devuelven ningún resultado.\n",
    "* Una función es un conjunto de sentencias que devuelve un resultado  a través de la sentencia “return, comunmente calculado dentro de la función”\n",
    "* Tanto procedimientos como funciones son creados con la palabra “def”\n"
   ]
  },
  {
   "cell_type": "code",
   "execution_count": 83,
   "metadata": {},
   "outputs": [],
   "source": [
    "def calcular_area(ancho,largo):\n",
    "    area = ancho * largo\n",
    "    return area"
   ]
  },
  {
   "cell_type": "code",
   "execution_count": 84,
   "metadata": {},
   "outputs": [
    {
     "data": {
      "text/plain": [
       "20"
      ]
     },
     "execution_count": 84,
     "metadata": {},
     "output_type": "execute_result"
    }
   ],
   "source": [
    "calcular_area(5,4)"
   ]
  },
  {
   "cell_type": "code",
   "execution_count": 85,
   "metadata": {},
   "outputs": [],
   "source": [
    "def get_info_alumnos(nombres_alumos, carnets_alumnos, carreras_alumnos, carreras):\n",
    "    for index, nombre in enumerate(nombres_alumos):\n",
    "        carnet = carnets_alumnos[index]\n",
    "        carrera = carreras.get(carreras_alumnos[index])\n",
    "        print('>> Carnet: ', carnet, ' Nombre: ', nombre, ' Carrera: ', carrera)      "
   ]
  },
  {
   "cell_type": "code",
   "execution_count": 81,
   "metadata": {},
   "outputs": [],
   "source": [
    "def get_info_curso(curso, nombres_alumos, carnets_alumnos, carreras_alumnos, carreras):\n",
    "    print(curso.get('nombre_curso'))\n",
    "    print('Seccion:', curso.get('seccion'))\n",
    "    print('Catedratico:', curso.get('catedratico'))\n",
    "    print('Auxiliar:', curso.get('auxiliar'))\n",
    "    print('')\n",
    "    get_info_alumnos(nombres_alumos, carnets_alumnos, carreras_alumnos, carreras)  \n"
   ]
  },
  {
   "cell_type": "code",
   "execution_count": 82,
   "metadata": {},
   "outputs": [
    {
     "name": "stdout",
     "output_type": "stream",
     "text": [
      "Machine Learning\n",
      "Seccion: A\n",
      "Catedratico: Luis Leal\n",
      "Auxiliar: Erick Diaz\n",
      "\n",
      ">> Carnet:  20150205  Nombre:  Marcos Amaya  Carrera:  Licenciatura en Economía\n",
      ">> Carnet:  20150394  Nombre:  Edwin Calderón  Carrera:  Licenciatura en Economía\n",
      ">> Carnet:  20150109  Nombre:  Boris Juárez  Carrera:  Licenciatura en Administración de Empresas\n",
      ">> Carnet:  20150263  Nombre:  Isabel Miranda  Carrera:  Licenciatura en Ingeniería Empresarial\n",
      ">> Carnet:  20150066  Nombre:  Hanna Prera  Carrera:  Licenciatura en Ingeniería Empresarial\n"
     ]
    }
   ],
   "source": [
    "get_info_curso(curso, nombres_alumos, carnets_alumnos, carreras_alumnos, carreras)"
   ]
  },
  {
   "cell_type": "markdown",
   "metadata": {},
   "source": [
    "# Librerias y paquetes\n",
    "* Las librerías y paquetes son herramientas que extienden la funcionalidad default de un lenguaje de programación.\n",
    "* Agregan funcionalidad específica para ciertas tareas que se puede reutilizar sin necesidad de programarlo desde 0\n",
    "* Por ejemplo:\n",
    "    * NumPy : librería para algebra lineal y computación numérica\n",
    "    * Scikit-learn: machine learning\n",
    "    * Matplotlib: graficas en Python\n",
    "    * Time: librería de python para manejar relojes(por ejemplo contar cuanto tiempo tarda algo en ejecutarse)\n",
    "* En Python antes de utilizar una librería debemos importarla , o bien importar un subconjunto de ella, utilizando “import”\n",
    "    * Import numpy as np"
   ]
  },
  {
   "cell_type": "code",
   "execution_count": 86,
   "metadata": {},
   "outputs": [],
   "source": [
    "import numpy as np"
   ]
  },
  {
   "cell_type": "code",
   "execution_count": 89,
   "metadata": {},
   "outputs": [
    {
     "name": "stdout",
     "output_type": "stream",
     "text": [
      "[70 80 75 60 90]\n"
     ]
    }
   ],
   "source": [
    "notas = np.array([70,80,75,60,90])\n",
    "\n",
    "print(notas)"
   ]
  },
  {
   "cell_type": "code",
   "execution_count": 88,
   "metadata": {},
   "outputs": [
    {
     "data": {
      "text/plain": [
       "array([[0., 0., 0., 0.],\n",
       "       [0., 0., 0., 0.],\n",
       "       [0., 0., 0., 0.]])"
      ]
     },
     "execution_count": 88,
     "metadata": {},
     "output_type": "execute_result"
    }
   ],
   "source": [
    "np.zeros( (3,4) )"
   ]
  },
  {
   "cell_type": "code",
   "execution_count": null,
   "metadata": {},
   "outputs": [],
   "source": []
  }
 ],
 "metadata": {
  "kernelspec": {
   "display_name": "Python 3",
   "language": "python",
   "name": "python3"
  },
  "language_info": {
   "codemirror_mode": {
    "name": "ipython",
    "version": 3
   },
   "file_extension": ".py",
   "mimetype": "text/x-python",
   "name": "python",
   "nbconvert_exporter": "python",
   "pygments_lexer": "ipython3",
   "version": "3.8.1"
  }
 },
 "nbformat": 4,
 "nbformat_minor": 4
}
