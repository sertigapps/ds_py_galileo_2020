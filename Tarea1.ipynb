{
 "cells": [
  {
   "cell_type": "markdown",
   "metadata": {},
   "source": [
    "# Que es un controlador de versiones ?"
   ]
  },
  {
   "cell_type": "markdown",
   "metadata": {},
   "source": [
    "Un controlador de versiones es un sistema que registra los cambios en un archivo o conjunto de archivos a lo largo del tiempo para que se puedan recuperar versiones específicas más adelante. Entonces, idealmente, podemos colocar cualquier archivo en la computadora en el control de versiones.\n",
    "\n",
    "Un sistema de control de versiones nos permite revertir archivos a un estado anterior, revertir todo el proyecto a un estado anterior, revisar los cambios realizados con el tiempo, ver quién modificó por última vez algo que podría estar causando un problema, quién introdujo un problema y cuando, y más. Usar un VCS también significa que si arruinas las cosas o pierdes archivos, generalmente puedes recuperarlas fácilmente.\n",
    "\n",
    "Git es un sistema de control de versiones para rastrear cambios en archivos de computadora y coordinar el trabajo en esos archivos entre varias personas. Git es un sistema de control de versiones distribuido. Por lo tanto, Git no necesariamente depende de un servidor central para almacenar todas las versiones de los archivos de un proyecto. En cambio, cada usuario \"clona\" una copia de un repositorio (una colección de archivos) y tiene el historial completo del proyecto en su propio disco duro. Este clon tiene todos los metadatos del original, mientras que el original se almacena en un servidor en la nube o un servicio de alojamiento de terceros como GitHub.\n",
    "\n",
    "Git te ayuda a realizar un seguimiento de los cambios que realizas en tu código. Básicamente es la pestaña del historial de su editor de código (Sin modo de incógnito lol). Si en algún momento durante la codificación encuentra un error fatal y no sabe qué lo está causando, siempre puede volver al estado estable. Por lo tanto, es muy útil para la depuración.\n",
    "\n",
    "Antes de comenzar a trabajar con los comandos de Git, es necesario comprender lo que este representa.\n",
    "\n",
    "## ¿Qué es un repositorio?\n",
    "Un repositorio también conocido como repo no es más que una colección de código fuente.\n",
    "\n",
    "## Hay cuatro elementos fundamentales en el flujo de trabajo de Git.\n",
    "Directorio de trabajo, área de ensayo, repositorio local y repositorio remoto.\n",
    "\n",
    "## Si considera un archivo en su Directorio de trabajo, puede estar en tres estados posibles.\n",
    "\n",
    "1. Puede estar estaged o en area de ensayo. Lo que significa que los archivos con los cambios actualizados están marcados para ser confirmados en el repositorio local pero aún no confirmados.\n",
    "2. Puede estar modificado. Lo que significa que los archivos con los cambios actualizados aún no se almacenan en el repositorio local.\n",
    "3. Puede estar commited. Lo que significa que los cambios que realizó en su archivo se almacenan de forma segura en el repositorio local.\n",
    "\n",
    "## Comandos de Git\n",
    "\n",
    "- git add es un comando utilizado para agregar un archivo que está en el directorio de trabajo local al área de staging.\n",
    "- git commit es un comando que se usa para agregar todos los archivos que se organizan en el repositorio local.\n",
    "- git push es un comando utilizado para agregar todos los archivos que estan commited en el repositorio local al repositorio remoto. Entonces, en el repositorio remoto, todos los archivos y cambios serán visibles para cualquier persona con acceso al repositorio remoto.\n",
    "- git fetch es un comando utilizado para jalar archivos del repositorio remoto al repositorio local pero no al directorio de trabajo.\n",
    "- git merge es un comando utilizado para jalar los archivos del repositorio local al directorio de trabajo.\n",
    "- git pull es un comando utilizado para obtener archivos del repositorio remoto directamente en el directorio de trabajo. Es equivalente a un git fetch y un git merge.\n",
    "\n",
    "## Como empezar a trabajar en Git\n",
    "\n",
    "### Asegurarse que tienes instalado Git"
   ]
  },
  {
   "cell_type": "raw",
   "metadata": {},
   "source": [
    "$ git --version"
   ]
  },
  {
   "cell_type": "markdown",
   "metadata": {},
   "source": [
    "Si esto no despliega la version de Git instalada significa que no lo esta , dependiendo de el sistema operativo deberas seguir los pasos necesarios para instalarlo.\n",
    "\n",
    "## Dile a Git quién eres.\n",
    "Ingresa tu nombre de usuario y dirección de correo electrónico de Git, ya que cada confirmación de Git utilizará esta información para identificarte como el autor."
   ]
  },
  {
   "cell_type": "raw",
   "metadata": {},
   "source": [
    "$ git config --global user.name \"TU_USUARIO\" "
   ]
  },
  {
   "cell_type": "raw",
   "metadata": {},
   "source": [
    "$ git config --global user.email \"TU_CORREO\""
   ]
  },
  {
   "cell_type": "markdown",
   "metadata": {},
   "source": [
    "### Crea un nuevo repositorio en GitHub\n",
    "Ahora, ubique la carpeta que desea colocar bajo git en su terminal."
   ]
  },
  {
   "cell_type": "raw",
   "metadata": {},
   "source": [
    "$ touch README.md    # para crear un readme file en el repositorio\n",
    "$ git init           # crea un repositorio vacio"
   ]
  },
  {
   "cell_type": "markdown",
   "metadata": {},
   "source": [
    "## Agregar archivos al área de staging para confirmar:\n",
    "Ahora para agregar los archivos al repositorio git para poder hacer commit:"
   ]
  },
  {
   "cell_type": "raw",
   "metadata": {},
   "source": [
    "$ git add .  # Agrega todos los archivos en el repositorio local a staging para poder hacer commit"
   ]
  },
  {
   "cell_type": "raw",
   "metadata": {},
   "source": [
    "$ git add README.md # para agregar un archivo en especifico"
   ]
  },
  {
   "cell_type": "markdown",
   "metadata": {},
   "source": [
    "## Antes de hacer commit podemos ver que archivos estan en el area de staging"
   ]
  },
  {
   "cell_type": "raw",
   "metadata": {},
   "source": [
    "$ git status # Lista todos los archivos nuevos o modificados para hacer commit"
   ]
  },
  {
   "cell_type": "markdown",
   "metadata": {},
   "source": [
    "## Haz commit de tus archivos al repositorio"
   ]
  },
  {
   "cell_type": "raw",
   "metadata": {},
   "source": [
    "$ git commit -m \"Primer commit\" # El mensaje \" \" es para que los otros usuarios sepan xq se hicieron los cambios"
   ]
  },
  {
   "cell_type": "markdown",
   "metadata": {},
   "source": [
    "## Deshacer los cambios hechos en un commit anterior\n",
    "\n",
    "Ahora, supongamos que acabamos de cometer un error en su código o que colocó un archivo no deseado dentro del repositorio, puede eliminar los archivos que acaba de agregar usando:"
   ]
  },
  {
   "cell_type": "raw",
   "metadata": {},
   "source": [
    "$ git reset HEAD~1 # Remover el commit mas reciente"
   ]
  },
  {
   "cell_type": "markdown",
   "metadata": {},
   "source": [
    "## Agregar un origen remoto y hacer push:\n",
    "Ahora, cada vez que realizamos cambios en los archivos y le hacemos commit, no se actualizará automáticamente en GitHub. Todos los cambios que realizamos en el archivo se actualizan en el repositorio local. Ahora para actualizar los cambios en el origen remoto:"
   ]
  },
  {
   "cell_type": "raw",
   "metadata": {},
   "source": [
    "$ git remote add origin URL_REMOTA_DEL_REPO \n",
    "$ git push -u origin master # empuja los cambios al repositorio remoto"
   ]
  },
  {
   "cell_type": "markdown",
   "metadata": {},
   "source": [
    "## Para ver los cambios que se le han hecho a un archivo\n",
    "\n",
    "Una vez que se comience a hacer cambios en los archivos y se guarde, el archivo no coincidirá con la última versión que se dio commit con git. Para ver los cambios que acaba de hacer:"
   ]
  },
  {
   "cell_type": "raw",
   "metadata": {},
   "source": [
    "$ git diff"
   ]
  },
  {
   "cell_type": "markdown",
   "metadata": {},
   "source": [
    "## Revertir a la ultima version que se le dio commit en el repo"
   ]
  },
  {
   "cell_type": "raw",
   "metadata": {},
   "source": [
    "$ git checkout .\n",
    "$ git checkout -- <archivo> # para un archivo en especifico"
   ]
  },
  {
   "cell_type": "markdown",
   "metadata": {},
   "source": [
    "## Ver el historia del commits"
   ]
  },
  {
   "cell_type": "raw",
   "metadata": {},
   "source": [
    "$ git log"
   ]
  },
  {
   "cell_type": "markdown",
   "metadata": {},
   "source": [
    "## Como clonar un repositorio\n",
    "\n",
    "Localice en el directorio que desea clonar. Copie el enlace del repositorio que desea e ingrese lo siguiente:"
   ]
  },
  {
   "cell_type": "raw",
   "metadata": {},
   "source": [
    "$ git clone ENLACE_REMOTO"
   ]
  }
 ],
 "metadata": {
  "kernelspec": {
   "display_name": "Python 3",
   "language": "python",
   "name": "python3"
  },
  "language_info": {
   "codemirror_mode": {
    "name": "ipython",
    "version": 3
   },
   "file_extension": ".py",
   "mimetype": "text/x-python",
   "name": "python",
   "nbconvert_exporter": "python",
   "pygments_lexer": "ipython3",
   "version": "3.7.4"
  }
 },
 "nbformat": 4,
 "nbformat_minor": 4
}
