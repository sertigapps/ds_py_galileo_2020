{
 "cells": [
  {
   "cell_type": "markdown",
   "metadata": {},
   "source": [
    "# Variables\n",
    "\n",
    "* Son objetos que tienen un nombre y sirven para almacenar valores(datos) que serán utilizados en el programa\n",
    "* Existen diversos tipos de variables, por ejemplo los básicos:\n",
    "    * Números enteros: a = 1, b = 2 , parqueos = 4, sillas = 3\n",
    "    * Números decimales(llamados float y/o double): pi = 3.1416 , edad = 24.5, velocidad = 25.5 , tipo_cambio = 7.40\n",
    "    * Cadenas(llamados Strings): mi_nombre = “Luis Leal” ,curso = “Machine Learning”\n",
    "    * Booleanos, contienen 2 únicos valores:\n",
    "        * True\n",
    "        * False\n"
   ]
  },
  {
   "cell_type": "markdown",
   "metadata": {},
   "source": [
    "### Numeros enteros"
   ]
  },
  {
   "cell_type": "code",
   "execution_count": 18,
   "metadata": {},
   "outputs": [],
   "source": [
    "total_alumnos = 5\n",
    "sillas = 20\n",
    "year = 2018\n",
    "numero_curso = 1"
   ]
  },
  {
   "cell_type": "markdown",
   "metadata": {},
   "source": [
    "### Numeros Decimales"
   ]
  },
  {
   "cell_type": "code",
   "execution_count": 19,
   "metadata": {},
   "outputs": [],
   "source": [
    "pi = 3.1416\n",
    "velocidad = 25.5\n",
    "tipo_cambio = 7.40"
   ]
  },
  {
   "cell_type": "markdown",
   "metadata": {},
   "source": [
    "### Strings"
   ]
  },
  {
   "cell_type": "code",
   "execution_count": 20,
   "metadata": {},
   "outputs": [],
   "source": [
    "nombre_curso = 'Data science'\n",
    "catedratico = 'Luis Leal'\n",
    "auxiliar = 'Erick Diaz'\n",
    "seccion_curso = 'A'"
   ]
  },
  {
   "cell_type": "markdown",
   "metadata": {},
   "source": [
    "### Booleanos"
   ]
  },
  {
   "cell_type": "code",
   "execution_count": 21,
   "metadata": {},
   "outputs": [],
   "source": [
    "curso_activo = True\n",
    "sillas_disponibles = False"
   ]
  },
  {
   "cell_type": "markdown",
   "metadata": {},
   "source": [
    "#### Obtener el tipo de una variable\n",
    "Si queremos ver de que tipo es una variable utilizamos la funcion type( )"
   ]
  },
  {
   "cell_type": "code",
   "execution_count": 22,
   "metadata": {},
   "outputs": [
    {
     "data": {
      "text/plain": [
       "float"
      ]
     },
     "execution_count": 22,
     "metadata": {},
     "output_type": "execute_result"
    }
   ],
   "source": [
    "type(pi)"
   ]
  },
  {
   "cell_type": "code",
   "execution_count": 23,
   "metadata": {},
   "outputs": [
    {
     "data": {
      "text/plain": [
       "int"
      ]
     },
     "execution_count": 23,
     "metadata": {},
     "output_type": "execute_result"
    }
   ],
   "source": [
    "type(year)"
   ]
  },
  {
   "cell_type": "code",
   "execution_count": 24,
   "metadata": {},
   "outputs": [
    {
     "data": {
      "text/plain": [
       "str"
      ]
     },
     "execution_count": 24,
     "metadata": {},
     "output_type": "execute_result"
    }
   ],
   "source": [
    "type(nombre_curso)"
   ]
  },
  {
   "cell_type": "markdown",
   "metadata": {},
   "source": [
    "# Listas y diccionarios"
   ]
  },
  {
   "cell_type": "markdown",
   "metadata": {},
   "source": [
    "### Listas\n",
    "* Permite guardar multiples objetos asociados bajo un mismo nombre.\n",
    "* Similar al concepto de “Vector” que ya vimos, pero no restringido únicamente a números.\n",
    "* Puede almacenar cualquier tipo de objeto básico(enteros, deci\"males o strings) o bien otros objetos mas complejos(otras listas u otras estructuras de datos)\n"
   ]
  },
  {
   "cell_type": "code",
   "execution_count": 25,
   "metadata": {},
   "outputs": [],
   "source": [
    "nombres_alumos = ['Marcos Amaya','Edwin Calderón','Boris Juárez','Isabel Miranda','Hanna Prera']\n",
    "carnets_alumnos = [20200205, 20200394, 20200109, 20200263, 20200066]\n",
    "carreras_alumnos = ['c1', 'c1', 'c2', 'c3', 'c3']\n",
    "pagos = [100,200,300]"
   ]
  },
  {
   "cell_type": "markdown",
   "metadata": {},
   "source": [
    "#### Obtener un elemento de la lista"
   ]
  },
  {
   "cell_type": "code",
   "execution_count": 26,
   "metadata": {},
   "outputs": [
    {
     "data": {
      "text/plain": [
       "300"
      ]
     },
     "execution_count": 26,
     "metadata": {},
     "output_type": "execute_result"
    }
   ],
   "source": [
    "pagos[2]"
   ]
  },
  {
   "cell_type": "markdown",
   "metadata": {},
   "source": [
    "### Diccionarios\n",
    "* Conocidos también como “hash tables” o “maps” o “hash maps”\n",
    "* Permiten acceder de manera rápida a un valor que esta asociado a otro valor comunmente llamado “llave” ,es decir asocian una llave a un valor.\n",
    "* Similar a un diccionario de idiomas o directorio teléfonico, permite asociar un valor(la llave) a otro(el valor), en un diccionario de idioma el “mapeo” es de una palabra(llave) a su significado(valor=, en el directorio teléfonico asocia o “mapea” un nombre de persona(llave) a su número de teléfono(valor)\n",
    "* Para “consultar” o usar un valor dada una llave, se puede usar también corchetes, o la función get()\n"
   ]
  },
  {
   "cell_type": "code",
   "execution_count": 27,
   "metadata": {},
   "outputs": [],
   "source": [
    "carreras = dict()\n",
    "carreras['c1'] = 'Master en data sa' \n",
    "carreras['c2'] = 'Licenciatura en Administración de Empresas'\n",
    "carreras['c3'] = 'Licenciatura en Ingeniería Empresarial'"
   ]
  },
  {
   "cell_type": "code",
   "execution_count": 28,
   "metadata": {},
   "outputs": [
    {
     "data": {
      "text/plain": [
       "'Licenciatura en Administración de Empresas'"
      ]
     },
     "execution_count": 28,
     "metadata": {},
     "output_type": "execute_result"
    }
   ],
   "source": [
    "carreras.get('c2')"
   ]
  },
  {
   "cell_type": "code",
   "execution_count": 29,
   "metadata": {},
   "outputs": [],
   "source": [
    "curso = {'catedratico': catedratico, 'auxiliar' : auxiliar, 'nombre_curso' : nombre_curso, 'seccion': seccion_curso}"
   ]
  },
  {
   "cell_type": "code",
   "execution_count": 30,
   "metadata": {},
   "outputs": [
    {
     "data": {
      "text/plain": [
       "'Data science'"
      ]
     },
     "execution_count": 30,
     "metadata": {},
     "output_type": "execute_result"
    }
   ],
   "source": [
    "curso['nombre_curso']"
   ]
  },
  {
   "cell_type": "markdown",
   "metadata": {},
   "source": [
    "# Operaciones aritmeticas\n",
    "* Python permite realizar operaciones aritméticas a través de los simbolos de suma,resta ,multiplicación y división convencionales\n",
    "* Ademas de las operaciones convencionales cuenta con operaciones para:\n",
    "    * Exponenciación(\\*\\*): a\\*\\*b equivale a elevar “a” a la “b” potencia\n",
    "    * División modular(%): a%b equivale a obtener el residuio de “a” dividido dentro de “b”\n",
    "    * División entera(//): a//b equivale a obtener  la división de “a” dentro de “b” aproximda a el entero mas bajo.\n",
    "* Asi también cuenta con operaciones para listas de números, por ejemplo:\n",
    "    * sum(lista) : suma los valoes de una lista dada\n",
    "    * max(lista) : obtiene el valor mayor de una lista dada\n",
    "    * min(lista) : obtiene el valor menor de una lista dada\n",
    "    * len(lista): devuelve el numero de elementos en una lista."
   ]
  },
  {
   "cell_type": "code",
   "execution_count": 31,
   "metadata": {},
   "outputs": [
    {
     "name": "stdout",
     "output_type": "stream",
     "text": [
      "15\n"
     ]
    }
   ],
   "source": [
    "asientos_disponibles = sillas - total_alumnos\n",
    "print(asientos_disponibles)"
   ]
  },
  {
   "cell_type": "code",
   "execution_count": 32,
   "metadata": {},
   "outputs": [
    {
     "data": {
      "text/plain": [
       "16"
      ]
     },
     "execution_count": 32,
     "metadata": {},
     "output_type": "execute_result"
    }
   ],
   "source": [
    "2**4"
   ]
  },
  {
   "cell_type": "code",
   "execution_count": 33,
   "metadata": {},
   "outputs": [
    {
     "data": {
      "text/plain": [
       "1"
      ]
     },
     "execution_count": 33,
     "metadata": {},
     "output_type": "execute_result"
    }
   ],
   "source": [
    "11%2"
   ]
  },
  {
   "cell_type": "code",
   "execution_count": 34,
   "metadata": {},
   "outputs": [
    {
     "data": {
      "text/plain": [
       "3"
      ]
     },
     "execution_count": 34,
     "metadata": {},
     "output_type": "execute_result"
    }
   ],
   "source": [
    "15//4"
   ]
  },
  {
   "cell_type": "code",
   "execution_count": 35,
   "metadata": {},
   "outputs": [
    {
     "name": "stdout",
     "output_type": "stream",
     "text": [
      "Lista de pagos:  [100, 200, 300]\n",
      "Total =  600\n",
      "Pago Mayor =  300\n",
      "Pago Menor =  100\n"
     ]
    }
   ],
   "source": [
    "print('Lista de pagos: ', pagos)\n",
    "\n",
    "total_pagos = sum(pagos)\n",
    "\n",
    "print('Total = ', total_pagos)\n",
    "\n",
    "print('Pago Mayor = ', max(pagos))\n",
    "\n",
    "print('Pago Menor = ', min(pagos))"
   ]
  },
  {
   "cell_type": "markdown",
   "metadata": {},
   "source": [
    "### Operaciones Logicas\n",
    "* Operaciones que trabajan sobre objetos booleanos(True,False) y su resultado es también un booleano.\n",
    "* Toda comparación da como resultado un valor booleano:\n",
    "    * 1 > 2: False\n",
    "    * 1 < 2: True\n",
    "    * 3 != 2: True\n",
    "    * 2 == 2: True\n",
    "* Son exactamente iguales a lo visto en “tablas lógicas” en matemáticas\n",
    "* Los 3 tipos mas usados son:\n",
    "    * not: negación, convierte un valor True a False, y False a True\n",
    "    * and: su resultado es verdadero si sus 2 operandos son verdaderos, en cualquier otro caso es falso\n",
    "    * or : su resultado es falso si sus 2 operandos son falsos, en cualquier otro caso es verdadero"
   ]
  },
  {
   "cell_type": "code",
   "execution_count": 36,
   "metadata": {},
   "outputs": [
    {
     "name": "stdout",
     "output_type": "stream",
     "text": [
      "True\n",
      "False\n"
     ]
    }
   ],
   "source": [
    "print(curso_activo)\n",
    "print(not curso_activo)"
   ]
  },
  {
   "cell_type": "markdown",
   "metadata": {},
   "source": [
    "### Condicionales\n",
    "* Son operaciones que separan el flujo de ejecución del programa basados en una condición.\n",
    "* Por ejemplo: ejecutar algo si se cumple que x> 0, si no se cumple ejecutar otra cosa.\n",
    "* Python utiliza las sentencias: if, else, y elif para esto"
   ]
  },
  {
   "cell_type": "code",
   "execution_count": 37,
   "metadata": {},
   "outputs": [
    {
     "data": {
      "text/plain": [
       "True"
      ]
     },
     "execution_count": 37,
     "metadata": {},
     "output_type": "execute_result"
    }
   ],
   "source": [
    "max(pagos) > min(pagos)"
   ]
  },
  {
   "cell_type": "code",
   "execution_count": 38,
   "metadata": {},
   "outputs": [
    {
     "data": {
      "text/plain": [
       "False"
      ]
     },
     "execution_count": 38,
     "metadata": {},
     "output_type": "execute_result"
    }
   ],
   "source": [
    "max(pagos) < pagos[1]"
   ]
  },
  {
   "cell_type": "code",
   "execution_count": 39,
   "metadata": {},
   "outputs": [
    {
     "name": "stdout",
     "output_type": "stream",
     "text": [
      "El curso esta disponible\n"
     ]
    }
   ],
   "source": [
    "if (curso_activo):\n",
    "    print(\"El curso esta disponible\")"
   ]
  },
  {
   "cell_type": "markdown",
   "metadata": {},
   "source": [
    "# Ciclos\n",
    "* Permiten realizar una operación muchas veces.\n",
    "* Por ejemplo, si tenemos una lista de usuarios y queremos imprimir el nombre de cada uno, utilizamos un ciclo y dentro del ciclo hacemos la impresion de nombre.\n",
    "* Utilizados cuando queremos repetir la misma operacion muchas veces dependiendo de una condición.\n",
    "* Repetiremos la operación mientras se cumpla una condición.\n",
    "* La condición podría ser por ejemplo: mientras una lista no este vacía\n",
    "* O bien podriamos repetir la operación una vez por cada elemento en una lista o secuencia de números.\n",
    "* En Python contamos básicamente con:\n",
    "    * for\n",
    "    * While"
   ]
  },
  {
   "cell_type": "code",
   "execution_count": 40,
   "metadata": {},
   "outputs": [
    {
     "name": "stdout",
     "output_type": "stream",
     "text": [
      "20200205\n",
      "20200394\n",
      "20200109\n",
      "20200263\n",
      "20200066\n"
     ]
    }
   ],
   "source": [
    "for carnet in carnets_alumnos:\n",
    "    print(carnet)"
   ]
  },
  {
   "cell_type": "code",
   "execution_count": 41,
   "metadata": {},
   "outputs": [
    {
     "name": "stdout",
     "output_type": "stream",
     "text": [
      "Marcos Amaya\n",
      "Edwin Calderón\n",
      "Boris Juárez\n",
      "Isabel Miranda\n",
      "Hanna Prera\n"
     ]
    }
   ],
   "source": [
    "total_alumnos = len(nombres_alumos)\n",
    "count = 0\n",
    "\n",
    "while(count < total_alumnos):\n",
    "    print(nombres_alumos[count])\n",
    "    count+=1"
   ]
  },
  {
   "cell_type": "markdown",
   "metadata": {},
   "source": [
    "# Procedimientos y funciones\n",
    "* Son grupos de sentencias de código que una vez definidas pueden ser “llamadas” por un nombre.\n",
    "* Pueden o no recibir parametros.\n",
    "* Un procedimiento es un grupo de sentencias  que realizan alguna tarea,pero no devuelven ningún resultado.\n",
    "* Una función es un conjunto de sentencias que devuelve un resultado  a través de la sentencia “return, comunmente calculado dentro de la función”\n",
    "* Tanto procedimientos como funciones son creados con la palabra “def”\n"
   ]
  },
  {
   "cell_type": "code",
   "execution_count": 42,
   "metadata": {},
   "outputs": [],
   "source": [
    "def calcular_area(ancho,largo):\n",
    "    area = ancho * largo\n",
    "    return area"
   ]
  },
  {
   "cell_type": "code",
   "execution_count": 43,
   "metadata": {},
   "outputs": [
    {
     "data": {
      "text/plain": [
       "20"
      ]
     },
     "execution_count": 43,
     "metadata": {},
     "output_type": "execute_result"
    }
   ],
   "source": [
    "calcular_area(5,4)"
   ]
  },
  {
   "cell_type": "code",
   "execution_count": 44,
   "metadata": {},
   "outputs": [],
   "source": [
    "def get_info_alumnos(nombres_alumos, carnets_alumnos, carreras_alumnos, carreras):\n",
    "    for index, nombre in enumerate(nombres_alumos):\n",
    "        carnet = carnets_alumnos[index]\n",
    "        carrera = carreras.get(carreras_alumnos[index])\n",
    "        print('>> Carnet: ', carnet, ' Nombre: ', nombre, ' Carrera: ', carrera)      "
   ]
  },
  {
   "cell_type": "code",
   "execution_count": 45,
   "metadata": {},
   "outputs": [],
   "source": [
    "def get_info_curso(curso, nombres_alumos, carnets_alumnos, carreras_alumnos, carreras):\n",
    "    print(curso.get('nombre_curso'))\n",
    "    print('Seccion:', curso.get('seccion'))\n",
    "    print('Catedratico:', curso.get('catedratico'))\n",
    "    print('Auxiliar:', curso.get('auxiliar'))\n",
    "    print('')\n",
    "    get_info_alumnos(nombres_alumos, carnets_alumnos, carreras_alumnos, carreras)  \n"
   ]
  },
  {
   "cell_type": "code",
   "execution_count": 46,
   "metadata": {},
   "outputs": [
    {
     "name": "stdout",
     "output_type": "stream",
     "text": [
      "Data science\n",
      "Seccion: A\n",
      "Catedratico: Luis Leal\n",
      "Auxiliar: Erick Diaz\n",
      "\n",
      ">> Carnet:  20200205  Nombre:  Marcos Amaya  Carrera:  Master en data sa\n",
      ">> Carnet:  20200394  Nombre:  Edwin Calderón  Carrera:  Master en data sa\n",
      ">> Carnet:  20200109  Nombre:  Boris Juárez  Carrera:  Licenciatura en Administración de Empresas\n",
      ">> Carnet:  20200263  Nombre:  Isabel Miranda  Carrera:  Licenciatura en Ingeniería Empresarial\n",
      ">> Carnet:  20200066  Nombre:  Hanna Prera  Carrera:  Licenciatura en Ingeniería Empresarial\n"
     ]
    }
   ],
   "source": [
    "get_info_curso(curso, nombres_alumos, carnets_alumnos, carreras_alumnos, carreras)"
   ]
  },
  {
   "cell_type": "markdown",
   "metadata": {},
   "source": [
    "# Librerias y paquetes\n",
    "* Las librerías y paquetes son herramientas que extienden la funcionalidad default de un lenguaje de programación.\n",
    "* Agregan funcionalidad específica para ciertas tareas que se puede reutilizar sin necesidad de programarlo desde 0\n",
    "* Por ejemplo:\n",
    "    * NumPy : librería para algebra lineal y computación numérica\n",
    "    * Scikit-learn: machine learning\n",
    "    * Matplotlib: graficas en Python\n",
    "    * Time: librería de python para manejar relojes(por ejemplo contar cuanto tiempo tarda algo en ejecutarse)\n",
    "* En Python antes de utilizar una librería debemos importarla , o bien importar un subconjunto de ella, utilizando “import”\n",
    "    * Import numpy as np"
   ]
  },
  {
   "cell_type": "code",
   "execution_count": 47,
   "metadata": {},
   "outputs": [],
   "source": [
    "import numpy as np"
   ]
  },
  {
   "cell_type": "code",
   "execution_count": 48,
   "metadata": {},
   "outputs": [
    {
     "name": "stdout",
     "output_type": "stream",
     "text": [
      "[70 80 75 60 90]\n"
     ]
    }
   ],
   "source": [
    "notas = np.array([70,80,75,60,90])\n",
    "\n",
    "print(notas)"
   ]
  },
  {
   "cell_type": "code",
   "execution_count": 49,
   "metadata": {},
   "outputs": [
    {
     "data": {
      "text/plain": [
       "array([[0., 0., 0., 0.],\n",
       "       [0., 0., 0., 0.],\n",
       "       [0., 0., 0., 0.]])"
      ]
     },
     "execution_count": 49,
     "metadata": {},
     "output_type": "execute_result"
    }
   ],
   "source": [
    "np.zeros( (3,4) )"
   ]
  },
  {
   "cell_type": "markdown",
   "metadata": {},
   "source": [
    "## Load CSV"
   ]
  },
  {
   "cell_type": "code",
   "execution_count": 52,
   "metadata": {},
   "outputs": [],
   "source": [
    "import pandas as pd"
   ]
  },
  {
   "cell_type": "code",
   "execution_count": 53,
   "metadata": {},
   "outputs": [],
   "source": [
    "data = pd.read_csv(\"data_titanic_proyecto.csv\")"
   ]
  },
  {
   "cell_type": "code",
   "execution_count": 55,
   "metadata": {},
   "outputs": [
    {
     "data": {
      "text/html": [
       "<div>\n",
       "<style scoped>\n",
       "    .dataframe tbody tr th:only-of-type {\n",
       "        vertical-align: middle;\n",
       "    }\n",
       "\n",
       "    .dataframe tbody tr th {\n",
       "        vertical-align: top;\n",
       "    }\n",
       "\n",
       "    .dataframe thead th {\n",
       "        text-align: right;\n",
       "    }\n",
       "</style>\n",
       "<table border=\"1\" class=\"dataframe\">\n",
       "  <thead>\n",
       "    <tr style=\"text-align: right;\">\n",
       "      <th></th>\n",
       "      <th>PassengerId</th>\n",
       "      <th>Name</th>\n",
       "      <th>Age</th>\n",
       "      <th>SibSp</th>\n",
       "      <th>Parch</th>\n",
       "      <th>Ticket</th>\n",
       "      <th>Fare</th>\n",
       "      <th>Cabin</th>\n",
       "      <th>Embarked</th>\n",
       "      <th>passenger_class</th>\n",
       "      <th>passenger_sex</th>\n",
       "      <th>passenger_survived</th>\n",
       "    </tr>\n",
       "  </thead>\n",
       "  <tbody>\n",
       "    <tr>\n",
       "      <td>0</td>\n",
       "      <td>1</td>\n",
       "      <td>Braund, Mr. Owen Harris</td>\n",
       "      <td>22.0</td>\n",
       "      <td>1</td>\n",
       "      <td>0</td>\n",
       "      <td>A/5 21171</td>\n",
       "      <td>7.2500</td>\n",
       "      <td>NaN</td>\n",
       "      <td>S</td>\n",
       "      <td>Lower</td>\n",
       "      <td>M</td>\n",
       "      <td>N</td>\n",
       "    </tr>\n",
       "    <tr>\n",
       "      <td>1</td>\n",
       "      <td>2</td>\n",
       "      <td>Cumings, Mrs. John Bradley (Florence Briggs Th...</td>\n",
       "      <td>38.0</td>\n",
       "      <td>1</td>\n",
       "      <td>0</td>\n",
       "      <td>PC 17599</td>\n",
       "      <td>71.2833</td>\n",
       "      <td>C85</td>\n",
       "      <td>C</td>\n",
       "      <td>Upper</td>\n",
       "      <td>F</td>\n",
       "      <td>Y</td>\n",
       "    </tr>\n",
       "    <tr>\n",
       "      <td>2</td>\n",
       "      <td>3</td>\n",
       "      <td>Heikkinen, Miss. Laina</td>\n",
       "      <td>26.0</td>\n",
       "      <td>0</td>\n",
       "      <td>0</td>\n",
       "      <td>STON/O2. 3101282</td>\n",
       "      <td>7.9250</td>\n",
       "      <td>NaN</td>\n",
       "      <td>S</td>\n",
       "      <td>Lower</td>\n",
       "      <td>F</td>\n",
       "      <td>Y</td>\n",
       "    </tr>\n",
       "    <tr>\n",
       "      <td>3</td>\n",
       "      <td>4</td>\n",
       "      <td>Futrelle, Mrs. Jacques Heath (Lily May Peel)</td>\n",
       "      <td>35.0</td>\n",
       "      <td>1</td>\n",
       "      <td>0</td>\n",
       "      <td>113803</td>\n",
       "      <td>53.1000</td>\n",
       "      <td>C123</td>\n",
       "      <td>S</td>\n",
       "      <td>Upper</td>\n",
       "      <td>F</td>\n",
       "      <td>Y</td>\n",
       "    </tr>\n",
       "    <tr>\n",
       "      <td>4</td>\n",
       "      <td>5</td>\n",
       "      <td>Allen, Mr. William Henry</td>\n",
       "      <td>35.0</td>\n",
       "      <td>0</td>\n",
       "      <td>0</td>\n",
       "      <td>373450</td>\n",
       "      <td>8.0500</td>\n",
       "      <td>NaN</td>\n",
       "      <td>S</td>\n",
       "      <td>Lower</td>\n",
       "      <td>M</td>\n",
       "      <td>N</td>\n",
       "    </tr>\n",
       "  </tbody>\n",
       "</table>\n",
       "</div>"
      ],
      "text/plain": [
       "   PassengerId                                               Name   Age  \\\n",
       "0            1                            Braund, Mr. Owen Harris  22.0   \n",
       "1            2  Cumings, Mrs. John Bradley (Florence Briggs Th...  38.0   \n",
       "2            3                             Heikkinen, Miss. Laina  26.0   \n",
       "3            4       Futrelle, Mrs. Jacques Heath (Lily May Peel)  35.0   \n",
       "4            5                           Allen, Mr. William Henry  35.0   \n",
       "\n",
       "   SibSp  Parch            Ticket     Fare Cabin Embarked passenger_class  \\\n",
       "0      1      0         A/5 21171   7.2500   NaN        S           Lower   \n",
       "1      1      0          PC 17599  71.2833   C85        C           Upper   \n",
       "2      0      0  STON/O2. 3101282   7.9250   NaN        S           Lower   \n",
       "3      1      0            113803  53.1000  C123        S           Upper   \n",
       "4      0      0            373450   8.0500   NaN        S           Lower   \n",
       "\n",
       "  passenger_sex passenger_survived  \n",
       "0             M                  N  \n",
       "1             F                  Y  \n",
       "2             F                  Y  \n",
       "3             F                  Y  \n",
       "4             M                  N  "
      ]
     },
     "execution_count": 55,
     "metadata": {},
     "output_type": "execute_result"
    }
   ],
   "source": [
    "data.head()"
   ]
  },
  {
   "cell_type": "code",
   "execution_count": 56,
   "metadata": {},
   "outputs": [
    {
     "data": {
      "text/html": [
       "<div>\n",
       "<style scoped>\n",
       "    .dataframe tbody tr th:only-of-type {\n",
       "        vertical-align: middle;\n",
       "    }\n",
       "\n",
       "    .dataframe tbody tr th {\n",
       "        vertical-align: top;\n",
       "    }\n",
       "\n",
       "    .dataframe thead th {\n",
       "        text-align: right;\n",
       "    }\n",
       "</style>\n",
       "<table border=\"1\" class=\"dataframe\">\n",
       "  <thead>\n",
       "    <tr style=\"text-align: right;\">\n",
       "      <th></th>\n",
       "      <th>PassengerId</th>\n",
       "      <th>Name</th>\n",
       "      <th>Age</th>\n",
       "      <th>SibSp</th>\n",
       "      <th>Parch</th>\n",
       "      <th>Ticket</th>\n",
       "      <th>Fare</th>\n",
       "      <th>Cabin</th>\n",
       "      <th>Embarked</th>\n",
       "      <th>passenger_class</th>\n",
       "      <th>passenger_sex</th>\n",
       "      <th>passenger_survived</th>\n",
       "    </tr>\n",
       "  </thead>\n",
       "  <tbody>\n",
       "    <tr>\n",
       "      <td>0</td>\n",
       "      <td>1</td>\n",
       "      <td>Braund, Mr. Owen Harris</td>\n",
       "      <td>22.0</td>\n",
       "      <td>1</td>\n",
       "      <td>0</td>\n",
       "      <td>A/5 21171</td>\n",
       "      <td>7.2500</td>\n",
       "      <td>NaN</td>\n",
       "      <td>S</td>\n",
       "      <td>Lower</td>\n",
       "      <td>M</td>\n",
       "      <td>N</td>\n",
       "    </tr>\n",
       "    <tr>\n",
       "      <td>1</td>\n",
       "      <td>2</td>\n",
       "      <td>Cumings, Mrs. John Bradley (Florence Briggs Th...</td>\n",
       "      <td>38.0</td>\n",
       "      <td>1</td>\n",
       "      <td>0</td>\n",
       "      <td>PC 17599</td>\n",
       "      <td>71.2833</td>\n",
       "      <td>C85</td>\n",
       "      <td>C</td>\n",
       "      <td>Upper</td>\n",
       "      <td>F</td>\n",
       "      <td>Y</td>\n",
       "    </tr>\n",
       "    <tr>\n",
       "      <td>2</td>\n",
       "      <td>3</td>\n",
       "      <td>Heikkinen, Miss. Laina</td>\n",
       "      <td>26.0</td>\n",
       "      <td>0</td>\n",
       "      <td>0</td>\n",
       "      <td>STON/O2. 3101282</td>\n",
       "      <td>7.9250</td>\n",
       "      <td>NaN</td>\n",
       "      <td>S</td>\n",
       "      <td>Lower</td>\n",
       "      <td>F</td>\n",
       "      <td>Y</td>\n",
       "    </tr>\n",
       "    <tr>\n",
       "      <td>3</td>\n",
       "      <td>4</td>\n",
       "      <td>Futrelle, Mrs. Jacques Heath (Lily May Peel)</td>\n",
       "      <td>35.0</td>\n",
       "      <td>1</td>\n",
       "      <td>0</td>\n",
       "      <td>113803</td>\n",
       "      <td>53.1000</td>\n",
       "      <td>C123</td>\n",
       "      <td>S</td>\n",
       "      <td>Upper</td>\n",
       "      <td>F</td>\n",
       "      <td>Y</td>\n",
       "    </tr>\n",
       "    <tr>\n",
       "      <td>4</td>\n",
       "      <td>5</td>\n",
       "      <td>Allen, Mr. William Henry</td>\n",
       "      <td>35.0</td>\n",
       "      <td>0</td>\n",
       "      <td>0</td>\n",
       "      <td>373450</td>\n",
       "      <td>8.0500</td>\n",
       "      <td>NaN</td>\n",
       "      <td>S</td>\n",
       "      <td>Lower</td>\n",
       "      <td>M</td>\n",
       "      <td>N</td>\n",
       "    </tr>\n",
       "    <tr>\n",
       "      <td>...</td>\n",
       "      <td>...</td>\n",
       "      <td>...</td>\n",
       "      <td>...</td>\n",
       "      <td>...</td>\n",
       "      <td>...</td>\n",
       "      <td>...</td>\n",
       "      <td>...</td>\n",
       "      <td>...</td>\n",
       "      <td>...</td>\n",
       "      <td>...</td>\n",
       "      <td>...</td>\n",
       "      <td>...</td>\n",
       "    </tr>\n",
       "    <tr>\n",
       "      <td>886</td>\n",
       "      <td>887</td>\n",
       "      <td>Montvila, Rev. Juozas</td>\n",
       "      <td>27.0</td>\n",
       "      <td>0</td>\n",
       "      <td>0</td>\n",
       "      <td>211536</td>\n",
       "      <td>13.0000</td>\n",
       "      <td>NaN</td>\n",
       "      <td>S</td>\n",
       "      <td>Middle</td>\n",
       "      <td>M</td>\n",
       "      <td>N</td>\n",
       "    </tr>\n",
       "    <tr>\n",
       "      <td>887</td>\n",
       "      <td>888</td>\n",
       "      <td>Graham, Miss. Margaret Edith</td>\n",
       "      <td>19.0</td>\n",
       "      <td>0</td>\n",
       "      <td>0</td>\n",
       "      <td>112053</td>\n",
       "      <td>30.0000</td>\n",
       "      <td>B42</td>\n",
       "      <td>S</td>\n",
       "      <td>Upper</td>\n",
       "      <td>F</td>\n",
       "      <td>Y</td>\n",
       "    </tr>\n",
       "    <tr>\n",
       "      <td>888</td>\n",
       "      <td>889</td>\n",
       "      <td>Johnston, Miss. Catherine Helen \"Carrie\"</td>\n",
       "      <td>NaN</td>\n",
       "      <td>1</td>\n",
       "      <td>2</td>\n",
       "      <td>W./C. 6607</td>\n",
       "      <td>23.4500</td>\n",
       "      <td>NaN</td>\n",
       "      <td>S</td>\n",
       "      <td>Lower</td>\n",
       "      <td>F</td>\n",
       "      <td>N</td>\n",
       "    </tr>\n",
       "    <tr>\n",
       "      <td>889</td>\n",
       "      <td>890</td>\n",
       "      <td>Behr, Mr. Karl Howell</td>\n",
       "      <td>26.0</td>\n",
       "      <td>0</td>\n",
       "      <td>0</td>\n",
       "      <td>111369</td>\n",
       "      <td>30.0000</td>\n",
       "      <td>C148</td>\n",
       "      <td>C</td>\n",
       "      <td>Upper</td>\n",
       "      <td>M</td>\n",
       "      <td>Y</td>\n",
       "    </tr>\n",
       "    <tr>\n",
       "      <td>890</td>\n",
       "      <td>891</td>\n",
       "      <td>Dooley, Mr. Patrick</td>\n",
       "      <td>32.0</td>\n",
       "      <td>0</td>\n",
       "      <td>0</td>\n",
       "      <td>370376</td>\n",
       "      <td>7.7500</td>\n",
       "      <td>NaN</td>\n",
       "      <td>Q</td>\n",
       "      <td>Lower</td>\n",
       "      <td>M</td>\n",
       "      <td>N</td>\n",
       "    </tr>\n",
       "  </tbody>\n",
       "</table>\n",
       "<p>891 rows × 12 columns</p>\n",
       "</div>"
      ],
      "text/plain": [
       "     PassengerId                                               Name   Age  \\\n",
       "0              1                            Braund, Mr. Owen Harris  22.0   \n",
       "1              2  Cumings, Mrs. John Bradley (Florence Briggs Th...  38.0   \n",
       "2              3                             Heikkinen, Miss. Laina  26.0   \n",
       "3              4       Futrelle, Mrs. Jacques Heath (Lily May Peel)  35.0   \n",
       "4              5                           Allen, Mr. William Henry  35.0   \n",
       "..           ...                                                ...   ...   \n",
       "886          887                              Montvila, Rev. Juozas  27.0   \n",
       "887          888                       Graham, Miss. Margaret Edith  19.0   \n",
       "888          889           Johnston, Miss. Catherine Helen \"Carrie\"   NaN   \n",
       "889          890                              Behr, Mr. Karl Howell  26.0   \n",
       "890          891                                Dooley, Mr. Patrick  32.0   \n",
       "\n",
       "     SibSp  Parch            Ticket     Fare Cabin Embarked passenger_class  \\\n",
       "0        1      0         A/5 21171   7.2500   NaN        S           Lower   \n",
       "1        1      0          PC 17599  71.2833   C85        C           Upper   \n",
       "2        0      0  STON/O2. 3101282   7.9250   NaN        S           Lower   \n",
       "3        1      0            113803  53.1000  C123        S           Upper   \n",
       "4        0      0            373450   8.0500   NaN        S           Lower   \n",
       "..     ...    ...               ...      ...   ...      ...             ...   \n",
       "886      0      0            211536  13.0000   NaN        S          Middle   \n",
       "887      0      0            112053  30.0000   B42        S           Upper   \n",
       "888      1      2        W./C. 6607  23.4500   NaN        S           Lower   \n",
       "889      0      0            111369  30.0000  C148        C           Upper   \n",
       "890      0      0            370376   7.7500   NaN        Q           Lower   \n",
       "\n",
       "    passenger_sex passenger_survived  \n",
       "0               M                  N  \n",
       "1               F                  Y  \n",
       "2               F                  Y  \n",
       "3               F                  Y  \n",
       "4               M                  N  \n",
       "..            ...                ...  \n",
       "886             M                  N  \n",
       "887             F                  Y  \n",
       "888             F                  N  \n",
       "889             M                  Y  \n",
       "890             M                  N  \n",
       "\n",
       "[891 rows x 12 columns]"
      ]
     },
     "execution_count": 56,
     "metadata": {},
     "output_type": "execute_result"
    }
   ],
   "source": [
    "data"
   ]
  },
  {
   "cell_type": "code",
   "execution_count": null,
   "metadata": {},
   "outputs": [],
   "source": [
    "late"
   ]
  }
 ],
 "metadata": {
  "kernelspec": {
   "display_name": "Python 3",
   "language": "python",
   "name": "python3"
  },
  "language_info": {
   "codemirror_mode": {
    "name": "ipython",
    "version": 3
   },
   "file_extension": ".py",
   "mimetype": "text/x-python",
   "name": "python",
   "nbconvert_exporter": "python",
   "pygments_lexer": "ipython3",
   "version": "3.7.4"
  }
 },
 "nbformat": 4,
 "nbformat_minor": 4
}
